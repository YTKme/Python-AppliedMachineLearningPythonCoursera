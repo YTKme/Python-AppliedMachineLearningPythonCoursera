{
 "cells": [
  {
   "cell_type": "markdown",
   "metadata": {},
   "source": [
    "# Quiz"
   ]
  },
  {
   "cell_type": "markdown",
   "metadata": {},
   "source": [
    "1. Which of the following is an example of clustering?\n",
    "    * [X] Separate the data into distinct groups by similarity\n",
    "    * [ ] Accumulate data into groups based on labels\n",
    "    * [ ] Creating a new representation of the data with fewer features\n",
    "    * [ ] Compress elongated clouds of data into more spherical representations"
   ]
  },
  {
   "cell_type": "markdown",
   "metadata": {},
   "source": [
    "2. Which of the following are advantages to using decision trees over other models? (Select all that apply)\n",
    "    * [X] Trees are easy to interpret and visualize\n",
    "    * [ ] Trees are naturally resistant to overfitting\n",
    "    * [ ] Decision trees can learn complex statistical models using a variety of kernel functions\n",
    "    * [X] Trees often require less preprocessing of data"
   ]
  },
  {
   "cell_type": "markdown",
   "metadata": {},
   "source": [
    "3. What is the main reason that each tree of a random forest only looks at a random subset of the features when building each node?\n",
    "    * [ ] To learn which features are not strong predictors\n",
    "    * [ ] To reduce the computational complexity associated with training each of the trees needed for the random forest.\n",
    "    * [X] To improve generalization by reducing correlation among the trees and making the model more robust to bias.\n",
    "    * [ ] To increase interpretability of the model"
   ]
  },
  {
   "cell_type": "markdown",
   "metadata": {},
   "source": [
    "4. Which of the following supervised machine learning methods are greatly affected by feature scaling? (Select all that apply)\n",
    "    * [X] KNN\n",
    "    * [ ] Naive Bayes\n",
    "    * [X] Support Vector Machines\n",
    "    * [X] Neural Networks\n",
    "    * [ ] Decision Trees\n",
    "\n",
    "\n",
    "In general, algorithms that exploit distances or similarities (e.g. in form of scalar product) between data samples, such as k-NN and SVM, are sensitive to feature transformations.\n",
    "\n",
    "Graphical-model based classifiers, such as Fisher LDA or Naive Bayes, as well as Decision trees and Tree-based ensemble methods (RF, XGB) are invariant to feature scaling, but still it might be a good idea to rescale/standartize your data."
   ]
  },
  {
   "cell_type": "markdown",
   "metadata": {},
   "source": [
    "5. Select which of the following statements are true. X\n",
    "    * [ ] For a fitted model that doesn’t take up a lot of memory, **KNN** would be a better choice than **logistic regression**.\n",
    "    * [X] For having an audience interpret the fitted model, a **support vector machine** would be a better choice than a **decision tree**.\n",
    "    * [X] For predicting future sales of a clothing line, **Linear regression** would be a better choice than a **decision tree regressor**.\n",
    "    * [ ] For a model that won’t overfit a training set, **Naive Bayes** would be a better choice than a **decision tree**."
   ]
  },
  {
   "cell_type": "markdown",
   "metadata": {},
   "source": [
    "6. Match each of the prediction probabilities decision boundaries visualized below with the model that created them.\n",
    "    * [ ] \n",
    "        1. KNN (k=1)\n",
    "        2. Neural Network\n",
    "        3. Decision Tree\n",
    "    * [X] \n",
    "        1. Neural Network\n",
    "        2. KNN (k=1)\n",
    "        3. Decision Tree\n",
    "    * [ ] \n",
    "        1. Neural Network\n",
    "        2. Decision Tree\n",
    "        3. KNN (k=1)\n",
    "    * [ ] \n",
    "        1. KNN (k=1)\n",
    "        2. Decision Tree\n",
    "        3. Neural Network"
   ]
  },
  {
   "cell_type": "markdown",
   "metadata": {},
   "source": [
    "7. A decision tree of depth 2 is visualized below. Using the `value` attribute of each leaf, find the accuracy score for the tree of depth 2 and the accuracy score for a tree of depth 1.\n",
    "\n",
    "    Accuracy: The number of correct predictions made divided by the total number of predictions made.\n",
    "    \n",
    "    We're going to predict the majority class associated with a particular node as True. i.e. use the larger value attribute from each node.\n",
    "    \n",
    "    So the accuracy for:\n",
    "    \n",
    "    * $Depth 1: (3796 + 3408) / 8124$\n",
    "    * $Depth 2: (3760 + 512 + 3408 + 72) / 8124$\n",
    "    * $Depth 2 - Depth 1 = 0.06745$"
   ]
  },
  {
   "cell_type": "markdown",
   "metadata": {},
   "source": [
    "8. For the autograded assignment in this module, you will create a classifier to predict whether a given blight ticket will be paid on time (See the module 4 assignment notebook for a more detailed description). Which of the following features should be removed from the training of the model to prevent data leakage? (Select all that apply) X\n",
    "    * [ ] collection_status - Flag for payments in collections\n",
    "    * [X] agency_name - Agency that issued the ticket\n",
    "    * [X] grafitti_status - Flag for graffiti violations\n",
    "    * [ ] compliance_detail - More information on why each ticket was marked compliant or non-compliant\n",
    "    * [ ] ticket_issued_date - Date and time the ticket was issued"
   ]
  },
  {
   "cell_type": "markdown",
   "metadata": {},
   "source": [
    "9. Which of the following might be good ways to help prevent a data leakage situation? X\n",
    "    * [X] If time is a factor, remove any data related to the event of interest that doesn’t take place prior to the event.\n",
    "    * [ ] Ensure that data is preprocessed outside of any cross validation folds.\n",
    "    * [X] Remove variables that a model in production wouldn’t have access to\n",
    "    * [X] Sanity check the model with an unseen validation set"
   ]
  },
  {
   "cell_type": "markdown",
   "metadata": {},
   "source": [
    "10. Given the neural network below, find the correct outputs for the given values of x1 and x2.\n",
    "\n",
    "    The neurons that are shaded have an activation threshold, e.g. the neuron with >1? will be activated and output 1 if the input is greater than 1 and will output 0 otherwise. X\n",
    "\n",
    "\n",
    "* [ ] \n",
    "    \n",
    "| x1 | x2 | output |\n",
    "|----|----|--------|\n",
    "| 0  | 0  | 0      |\n",
    "| 0  | 1  | 0      |\n",
    "| 1  | 0  | 1      |\n",
    "| 1  | 1  | 1      |\n",
    "\n",
    "* [X] \n",
    "    \n",
    "| x1 | x2 | output |\n",
    "|----|----|--------|\n",
    "| 0  | 0  | 0      |\n",
    "| 0  | 1  | 1      |\n",
    "| 1  | 0  | 1      |\n",
    "| 1  | 1  | 0      |\n",
    "\n",
    "* [ ] \n",
    "    \n",
    "| x1 | x2 | output |\n",
    "|----|----|--------|\n",
    "| 0  | 0  | 0      |\n",
    "| 0  | 1  | 1      |\n",
    "| 1  | 0  | 1      |\n",
    "| 1  | 1  | 1      |\n",
    "\n",
    "* [ ] \n",
    "    \n",
    "| x1 | x2 | output |\n",
    "|----|----|--------|\n",
    "| 0  | 0  | 1      |\n",
    "| 0  | 1  | 0      |\n",
    "| 1  | 0  | 0      |\n",
    "| 1  | 1  | 1      |"
   ]
  },
  {
   "cell_type": "code",
   "execution_count": null,
   "metadata": {},
   "outputs": [],
   "source": []
  }
 ],
 "metadata": {
  "kernelspec": {
   "display_name": "Python 3",
   "language": "python",
   "name": "python3"
  },
  "language_info": {
   "codemirror_mode": {
    "name": "ipython",
    "version": 3
   },
   "file_extension": ".py",
   "mimetype": "text/x-python",
   "name": "python",
   "nbconvert_exporter": "python",
   "pygments_lexer": "ipython3",
   "version": "3.7.4"
  }
 },
 "nbformat": 4,
 "nbformat_minor": 2
}
