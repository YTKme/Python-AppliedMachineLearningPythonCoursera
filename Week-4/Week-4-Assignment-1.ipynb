{
 "cells": [
  {
   "cell_type": "markdown",
   "metadata": {},
   "source": [
    "---\n",
    "\n",
    "_You are currently looking at **version 1.1** of this notebook. To download notebooks and datafiles, as well as get help on Jupyter notebooks in the Coursera platform, visit the [Jupyter Notebook FAQ](https://www.coursera.org/learn/python-machine-learning/resources/bANLa) course resource._\n",
    "\n",
    "---"
   ]
  },
  {
   "cell_type": "markdown",
   "metadata": {},
   "source": [
    "## Assignment 4 - Understanding and Predicting Property Maintenance Fines"
   ]
  },
  {
   "cell_type": "markdown",
   "metadata": {},
   "source": [
    "This assignment is based on a data challenge from the Michigan Data Science Team ([MDST](http://midas.umich.edu/mdst/)). \n",
    "\n",
    "The Michigan Data Science Team ([MDST](http://midas.umich.edu/mdst/)) and the Michigan Student Symposium for Interdisciplinary Statistical Sciences ([MSSISS](https://sites.lsa.umich.edu/mssiss/)) have partnered with the City of Detroit to help solve one of the most pressing problems facing Detroit - blight. [Blight violations](http://www.detroitmi.gov/How-Do-I/Report/Blight-Complaint-FAQs) are issued by the city to individuals who allow their properties to remain in a deteriorated condition. Every year, the city of Detroit issues millions of dollars in fines to residents and every year, many of these fines remain unpaid. Enforcing unpaid blight fines is a costly and tedious process, so the city wants to know: how can we increase blight ticket compliance?\n",
    "\n",
    "The first step in answering this question is understanding when and why a resident might fail to comply with a blight ticket. This is where predictive modeling comes in. For this assignment, your task is to predict whether a given blight ticket will be paid on time.\n",
    "\n",
    "All data for this assignment has been provided to us through the [Detroit Open Data Portal](https://data.detroitmi.gov/). **Only the data already included in your Coursera directory can be used for training the model for this assignment.** Nonetheless, we encourage you to look into data from other Detroit datasets to help inform feature creation and model selection. We recommend taking a look at the following related datasets:\n",
    "\n",
    "* [Building Permits](https://data.detroitmi.gov/Property-Parcels/Building-Permits/xw2a-a7tf)\n",
    "* [Trades Permits](https://data.detroitmi.gov/Property-Parcels/Trades-Permits/635b-dsgv)\n",
    "* [Improve Detroit: Submitted Issues](https://data.detroitmi.gov/Government/Improve-Detroit-Submitted-Issues/fwz3-w3yn)\n",
    "* [DPD: Citizen Complaints](https://data.detroitmi.gov/Public-Safety/DPD-Citizen-Complaints-2016/kahe-efs3)\n",
    "* [Parcel Map](https://data.detroitmi.gov/Property-Parcels/Parcel-Map/fxkw-udwf)\n",
    "\n",
    "___\n",
    "\n",
    "We provide you with two data files for use in training and validating your models: train.csv and test.csv. Each row in these two files corresponds to a single blight ticket, and includes information about when, why, and to whom each ticket was issued. The target variable is compliance, which is True if the ticket was paid early, on time, or within one month of the hearing data, False if the ticket was paid after the hearing date or not at all, and Null if the violator was found not responsible. Compliance, as well as a handful of other variables that will not be available at test-time, are only included in train.csv.\n",
    "\n",
    "Note: All tickets where the violators were found not responsible are not considered during evaluation. They are included in the training set as an additional source of data for visualization, and to enable unsupervised and semi-supervised approaches. However, they are not included in the test set.\n",
    "\n",
    "<br>\n",
    "\n",
    "**File descriptions** (Use only this data for training your model!)\n",
    "\n",
    "    readonly/train.csv - the training set (all tickets issued 2004-2011)\n",
    "    readonly/test.csv - the test set (all tickets issued 2012-2016)\n",
    "    readonly/addresses.csv & readonly/latlons.csv - mapping from ticket id to addresses, and from addresses to lat/lon coordinates. \n",
    "     Note: misspelled addresses may be incorrectly geolocated.\n",
    "\n",
    "<br>\n",
    "\n",
    "**Data fields**\n",
    "\n",
    "train.csv & test.csv\n",
    "\n",
    "    ticket_id - unique identifier for tickets\n",
    "    agency_name - Agency that issued the ticket\n",
    "    inspector_name - Name of inspector that issued the ticket\n",
    "    violator_name - Name of the person/organization that the ticket was issued to\n",
    "    violation_street_number, violation_street_name, violation_zip_code - Address where the violation occurred\n",
    "    mailing_address_str_number, mailing_address_str_name, city, state, zip_code, non_us_str_code, country - Mailing address of the violator\n",
    "    ticket_issued_date - Date and time the ticket was issued\n",
    "    hearing_date - Date and time the violator's hearing was scheduled\n",
    "    violation_code, violation_description - Type of violation\n",
    "    disposition - Judgment and judgement type\n",
    "    fine_amount - Violation fine amount, excluding fees\n",
    "    admin_fee - $20 fee assigned to responsible judgments\n",
    "state_fee - $10 fee assigned to responsible judgments\n",
    "    late_fee - 10% fee assigned to responsible judgments\n",
    "    discount_amount - discount applied, if any\n",
    "    clean_up_cost - DPW clean-up or graffiti removal cost\n",
    "    judgment_amount - Sum of all fines and fees\n",
    "    grafitti_status - Flag for graffiti violations\n",
    "    \n",
    "train.csv only\n",
    "\n",
    "    payment_amount - Amount paid, if any\n",
    "    payment_date - Date payment was made, if it was received\n",
    "    payment_status - Current payment status as of Feb 1 2017\n",
    "    balance_due - Fines and fees still owed\n",
    "    collection_status - Flag for payments in collections\n",
    "    compliance [target variable for prediction] \n",
    "     Null = Not responsible\n",
    "     0 = Responsible, non-compliant\n",
    "     1 = Responsible, compliant\n",
    "    compliance_detail - More information on why each ticket was marked compliant or non-compliant"
   ]
  },
  {
   "cell_type": "markdown",
   "metadata": {},
   "source": [
    "___\n",
    "\n",
    "## Evaluation\n",
    "\n",
    "Your predictions will be given as the probability that the corresponding blight ticket will be paid on time.\n",
    "\n",
    "The evaluation metric for this assignment is the Area Under the ROC Curve (AUC). \n",
    "\n",
    "Your grade will be based on the AUC score computed for your classifier. A model which with an AUROC of 0.7 passes this assignment, over 0.75 will recieve full points.\n",
    "___"
   ]
  },
  {
   "cell_type": "markdown",
   "metadata": {},
   "source": [
    "For this assignment, create a function that trains a model to predict blight ticket compliance in Detroit using `readonly/train.csv`. Using this model, return a series of length 61001 with the data being the probability that each corresponding ticket from `readonly/test.csv` will be paid, and the index being the ticket_id.\n",
    "\n",
    "Example:\n",
    "\n",
    "    ticket_id\n",
    "       284932    0.531842\n",
    "       285362    0.401958\n",
    "       285361    0.105928\n",
    "       285338    0.018572\n",
    "                 ...\n",
    "       376499    0.208567\n",
    "       376500    0.818759\n",
    "       369851    0.018528\n",
    "       Name: compliance, dtype: float32"
   ]
  },
  {
   "cell_type": "markdown",
   "metadata": {},
   "source": [
    "### Hints"
   ]
  },
  {
   "cell_type": "markdown",
   "metadata": {},
   "source": [
    "* Make sure your code is working before submitting it to the autograder.\n",
    "\n",
    "* Print out your result to see whether there is anything weird (e.g., all probabilities are the same).\n",
    "\n",
    "* Generally the total runtime should be less than 10 mins. You should NOT use Neural Network related classifiers (e.g., MLPClassifier) in this question. \n",
    "\n",
    "* Try to avoid global variables. If you have other functions besides blight_model, you should move those functions inside the scope of blight_model.\n",
    "\n",
    "* Refer to the pinned threads in Week 4's discussion forum when there is something you could not figure it out."
   ]
  },
  {
   "cell_type": "markdown",
   "metadata": {},
   "source": [
    "[Reference Link](https://github.com/umer7/Understanding-and-Predicting-Property-Maintenance-Fines-using-Machine-Learning/blob/master/Assignment%252B4ml.ipynb)"
   ]
  },
  {
   "cell_type": "code",
   "execution_count": 1,
   "metadata": {},
   "outputs": [],
   "source": [
    "import pandas as pd\n",
    "import numpy as np"
   ]
  },
  {
   "cell_type": "code",
   "execution_count": 2,
   "metadata": {},
   "outputs": [],
   "source": [
    "# Get the train data\n",
    "# Need to use \"ISO-8859-1\" encoding\n",
    "train_df = pd.read_csv(\"train.csv\", encoding = \"ISO-8859-1\", low_memory = False)\n",
    "#train_df.head()"
   ]
  },
  {
   "cell_type": "code",
   "execution_count": 3,
   "metadata": {},
   "outputs": [],
   "source": [
    "# Take a look at the train data for \"not responsible\" compliance\n",
    "train_compliance_df = train_df[(train_df[\"compliance\"] == 0) | (train_df[\"compliance\"] == 1)]\n",
    "#train_compliance_df.head()\n",
    "#train_compliance_df.shape"
   ]
  },
  {
   "cell_type": "code",
   "execution_count": 4,
   "metadata": {},
   "outputs": [],
   "source": [
    "# Get the test data\n",
    "test_df = pd.read_csv(\"test.csv\")\n",
    "#test_df.head()"
   ]
  },
  {
   "cell_type": "code",
   "execution_count": 5,
   "metadata": {},
   "outputs": [
    {
     "name": "stdout",
     "output_type": "stream",
     "text": [
      "Test Data Shape: (61001, 27)\n",
      "Test Data Shape For Detroit: (26358, 27)\n"
     ]
    }
   ],
   "source": [
    "# Take a look at the test data and test data for detroit\n",
    "print(\"Test Data Shape: {}\".format(test_df.shape))\n",
    "print(\"Test Data Shape For Detroit: {}\".format(test_df[test_df[\"city\"] == \"DETROIT\"].shape))"
   ]
  },
  {
   "cell_type": "code",
   "execution_count": 6,
   "metadata": {},
   "outputs": [],
   "source": [
    "# Get the address data\n",
    "address_df = pd.read_csv(\"addresses.csv\")\n",
    "#address_df.head()"
   ]
  },
  {
   "cell_type": "code",
   "execution_count": 7,
   "metadata": {},
   "outputs": [],
   "source": [
    "# Get the latitude and longitude data\n",
    "latlon_df = pd.read_csv(\"latlons.csv\")\n",
    "#latlon_df.head()"
   ]
  },
  {
   "cell_type": "code",
   "execution_count": 77,
   "metadata": {},
   "outputs": [],
   "source": [
    "# Merge the address with latitude and longitude data\n",
    "location_df = address_df.set_index(\"address\").join(latlon_df.set_index(\"address\"), how = \"left\")\n",
    "#location_df.head()"
   ]
  },
  {
   "cell_type": "code",
   "execution_count": 80,
   "metadata": {},
   "outputs": [],
   "source": [
    "# Merge the train data with the location data\n",
    "train_location_df = train_df.set_index(\"ticket_id\").join(location_df.set_index(\"ticket_id\"))\n",
    "#train_location_df.head()"
   ]
  },
  {
   "cell_type": "code",
   "execution_count": 10,
   "metadata": {},
   "outputs": [
    {
     "name": "stdout",
     "output_type": "stream",
     "text": [
      "Train Data Where Late Fee != 10: (237790, 35)\n"
     ]
    }
   ],
   "source": [
    "# Take a look at the combined data\n",
    "print(\"Train Data Where Late Fee != 10: {}\".format(train_location_df[train_location_df[\"late_fee\"] != 10].shape))"
   ]
  },
  {
   "cell_type": "code",
   "execution_count": 11,
   "metadata": {},
   "outputs": [],
   "source": [
    "# Filter out train data for \"not responsible\" compliance, keep compliant and non-compliant\n",
    "train_filter_df = train_location_df[(train_location_df[\"compliance\"] == 0) | (train_location_df[\"compliance\"] == 1)]\n",
    "#train_filter_df.head()"
   ]
  },
  {
   "cell_type": "code",
   "execution_count": 12,
   "metadata": {},
   "outputs": [
    {
     "name": "stdout",
     "output_type": "stream",
     "text": [
      "Train Data Filter Shape: (159880, 35)\n",
      "Unique Violation Code Count: 189\n",
      "Unique City Count: 4093\n",
      "Unique State Count: 60\n",
      "Unique Train Agency Count: 5\n",
      "Unique Test Agency Count: 3\n",
      "Unique Disposition Count: 4\n"
     ]
    }
   ],
   "source": [
    "# Take a look at the data count\n",
    "print(\"Train Data Filter Shape: {}\".format(train_filter_df.shape))\n",
    "print(\"Unique Violation Code Count: {}\".format(len(train_filter_df[\"violation_code\"].unique())))\n",
    "print(\"Unique City Count: {}\".format(len(train_filter_df[\"city\"].unique())))\n",
    "print(\"Unique State Count: {}\".format(len(train_filter_df[\"state\"].unique())))\n",
    "print(\"Unique Train Agency Count: {}\".format(len(train_filter_df[\"agency_name\"].unique())))\n",
    "print(\"Unique Test Agency Count: {}\".format(len(test_df[\"agency_name\"].unique())))\n",
    "print(\"Unique Disposition Count: {}\".format(len(train_filter_df[\"disposition\"].unique())))"
   ]
  },
  {
   "cell_type": "code",
   "execution_count": 13,
   "metadata": {},
   "outputs": [
    {
     "data": {
      "text/plain": [
       "ticket_id\n",
       "22056    2004-03-16 11:40:00\n",
       "27586    2004-04-23 12:30:00\n",
       "22046    2004-05-01 11:50:00\n",
       "18738    2004-06-14 14:15:00\n",
       "18735    2004-06-16 12:30:00\n",
       "Name: ticket_issued_date, dtype: object"
      ]
     },
     "execution_count": 13,
     "metadata": {},
     "output_type": "execute_result"
    }
   ],
   "source": [
    "train_filter_df[\"ticket_issued_date\"].head()"
   ]
  },
  {
   "cell_type": "code",
   "execution_count": 14,
   "metadata": {},
   "outputs": [
    {
     "name": "stdout",
     "output_type": "stream",
     "text": [
      "Empty Ticket Issue Date: Empty DataFrame\n",
      "Columns: [agency_name, inspector_name, violator_name, violation_street_number, violation_street_name, violation_zip_code, mailing_address_str_number, mailing_address_str_name, city, state, zip_code, non_us_str_code, country, ticket_issued_date, hearing_date, violation_code, violation_description, disposition, fine_amount, admin_fee, state_fee, late_fee, discount_amount, clean_up_cost, judgment_amount, payment_amount, balance_due, payment_date, payment_status, collection_status, grafitti_status, compliance_detail, compliance, lat, lon]\n",
      "Index: []\n",
      "\n",
      "[0 rows x 35 columns]\n"
     ]
    }
   ],
   "source": [
    "# Check if there are empty ticket issue date\n",
    "print(\"Empty Ticket Issue Date: {}\".format(train_filter_df[train_filter_df[\"ticket_issued_date\"].isnull()]))"
   ]
  },
  {
   "cell_type": "code",
   "execution_count": 15,
   "metadata": {},
   "outputs": [
    {
     "name": "stdout",
     "output_type": "stream",
     "text": [
      "Train Data With Hearing Date Count: 159653\n",
      "Test Data With Hearing Date Count: 2197\n",
      "Test Data Without Ticket Issue Date Count: 0\n"
     ]
    }
   ],
   "source": [
    "# Filter out hearing date that are empty\n",
    "train_filter_df = train_filter_df[~train_filter_df[\"hearing_date\"].isnull()]\n",
    "# Check the amount of data\n",
    "print(\"Train Data With Hearing Date Count: {}\".format(len(train_filter_df)))\n",
    "print(\"Test Data With Hearing Date Count: {}\".format(len(test_df[test_df[\"hearing_date\"].isnull()])))\n",
    "print(\"Test Data Without Ticket Issue Date Count: {}\".format(len(test_df[test_df[\"ticket_issued_date\"].isnull()])))"
   ]
  },
  {
   "cell_type": "code",
   "execution_count": 16,
   "metadata": {},
   "outputs": [
    {
     "data": {
      "text/plain": [
       "ticket_id\n",
       "22056    2005-03-21 10:30:00\n",
       "27586    2005-05-06 13:30:00\n",
       "22046    2005-03-21 10:30:00\n",
       "18738    2005-02-22 15:00:00\n",
       "18735    2005-02-22 15:00:00\n",
       "Name: hearing_date, dtype: object"
      ]
     },
     "execution_count": 16,
     "metadata": {},
     "output_type": "execute_result"
    }
   ],
   "source": [
    "# Train data hearing date\n",
    "train_filter_df[\"hearing_date\"].head()"
   ]
  },
  {
   "cell_type": "code",
   "execution_count": 64,
   "metadata": {},
   "outputs": [],
   "source": [
    "from datetime import datetime\n",
    "\n",
    "def time_delta(hearing, ticket_issued):\n",
    "    \"\"\"Calculate the time delta between hearing date and ticket issued date\n",
    "    \n",
    "    Args:\n",
    "        hearing (str): The hearing date\n",
    "        ticket_issued (str): The ticket issued date\n",
    "        \n",
    "    Returns:\n",
    "        A datetime of the difference between hearing date and ticket issued date\n",
    "    \"\"\"\n",
    "    # There's no hearing date\n",
    "    if not hearing or type(hearing) is not \"str\": return 73\n",
    "    \n",
    "    # Convert string to datetime\n",
    "    hearing_date = datetime.strptime(hearing, \"%Y-%m-%d %H:%M:%S\")\n",
    "    ticket_issued_date = datetime.strptime(ticket_issued, \"%Y-%m-%d %H:%M:%S\")\n",
    "    \n",
    "    # Calculate the delta\n",
    "    delta = hearing_date - ticket_issued_date\n",
    "    \n",
    "    # Return the delta day(s)\n",
    "    return delta.days"
   ]
  },
  {
   "cell_type": "code",
   "execution_count": 18,
   "metadata": {},
   "outputs": [
    {
     "name": "stdout",
     "output_type": "stream",
     "text": [
      "Time Delta: 251\n",
      "Time Delta Function: 251\n"
     ]
    }
   ],
   "source": [
    "# Test function\n",
    "datetime_delta = datetime.strptime(\"2005-02-22 15:00:00\", \"%Y-%m-%d %H:%M:%S\") - datetime.strptime(\"2004-06-16 12:30:00\", \"%Y-%m-%d %H:%M:%S\")\n",
    "print(\"Time Delta: {}\".format(datetime_delta.days))\n",
    "\n",
    "day_delta = time_delta(\"2005-02-22 15:00:00\", \"2004-06-16 12:30:00\")\n",
    "print(\"Time Delta Function: {}\".format(day_delta))"
   ]
  },
  {
   "cell_type": "code",
   "execution_count": 19,
   "metadata": {},
   "outputs": [],
   "source": [
    "# Calculate the time delta for hearing date and ticket issued date\n",
    "train_filter_df[\"time_delta\"] = train_filter_df.apply(lambda row: time_delta(row[\"hearing_date\"], row[\"ticket_issued_date\"]), axis = 1)\n",
    "#train_filter_df.head()"
   ]
  },
  {
   "cell_type": "code",
   "execution_count": 20,
   "metadata": {},
   "outputs": [
    {
     "data": {
      "text/plain": [
       "72.64741032113396"
      ]
     },
     "execution_count": 20,
     "metadata": {},
     "output_type": "execute_result"
    }
   ],
   "source": [
    "train_filter_df[\"time_delta\"].mean()"
   ]
  },
  {
   "cell_type": "code",
   "execution_count": 21,
   "metadata": {},
   "outputs": [],
   "source": [
    "# Feature spliting\n",
    "feature_split = [\"agency_name\", \"state\", \"disposition\"]"
   ]
  },
  {
   "cell_type": "code",
   "execution_count": 22,
   "metadata": {},
   "outputs": [
    {
     "data": {
      "text/plain": [
       "True"
      ]
     },
     "execution_count": 22,
     "metadata": {},
     "output_type": "execute_result"
    }
   ],
   "source": [
    "# Check the balance due\n",
    "\"balance_due\" in train_filter_df"
   ]
  },
  {
   "cell_type": "code",
   "execution_count": 130,
   "metadata": {},
   "outputs": [],
   "source": [
    "import pandas as pd\n",
    "import numpy as np\n",
    "\n",
    "from sklearn.neural_network import MLPClassifier\n",
    "from sklearn.preprocessing import MinMaxScaler\n",
    "from sklearn.tree import DecisionTreeClassifier\n",
    "from datetime import datetime\n",
    "\n",
    "def blight_model():\n",
    "    \n",
    "    # Get train and test data\n",
    "    train_df = pd.read_csv(\"train.csv\", encoding = \"ISO-8859-1\", low_memory = False)\n",
    "    test_df = pd.read_csv(\"test.csv\")\n",
    "    \n",
    "    # Filter out train data for \"not responsible\" compliance, keep compliant and non-compliant\n",
    "    train_filter_df = train_df[(train_df[\"compliance\"] == 0) | (train_df[\"compliance\"] == 1)]\n",
    "    \n",
    "    # Get location data\n",
    "    address_df = pd.read_csv(\"addresses.csv\")\n",
    "    latlon_df = pd.read_csv(\"latlons.csv\")\n",
    "    \n",
    "    # Merge the address with latitude and longitude data\n",
    "    location_df = address_df.set_index(\"address\").join(latlon_df.set_index(\"address\"), how = \"left\")\n",
    "    # Merge the train filter data with the location data\n",
    "    train_final_df = train_filter_df.set_index(\"ticket_id\").join(location_df.set_index(\"ticket_id\"))\n",
    "    # Merge the test data with the address data\n",
    "    test_final_df = test_df.set_index(\"ticket_id\").join(location_df.set_index(\"ticket_id\"))\n",
    "    \n",
    "    # Filter the merged train data, remove entry where there is no hearing date\n",
    "    train_final_df = train_final_df[~train_final_df[\"hearing_date\"].isnull()]\n",
    "    \n",
    "    # Calculate the time delta for train and test data\n",
    "    train_final_df[\"time_delta\"] = train_final_df.apply(lambda r: time_delta(r[\"hearing_date\"], r[\"ticket_issued_date\"]), axis = 1)\n",
    "    test_final_df[\"time_delta\"] = test_final_df.apply(lambda r: time_delta(r[\"hearing_date\"], r[\"ticket_issued_date\"]), axis = 1)\n",
    "    \n",
    "    # Feature spliting\n",
    "    feature_split = [\"agency_name\", \"state\", \"disposition\"]\n",
    "    \n",
    "    # Fill the empty data for train and test\n",
    "    train_final_df.lat.fillna(method = \"pad\", inplace = True)\n",
    "    train_final_df.lon.fillna(method = \"pad\", inplace = True)\n",
    "    train_final_df.state.fillna(method = \"pad\", inplace = True)\n",
    "    test_final_df.lat.fillna(method = \"pad\", inplace = True)\n",
    "    test_final_df.lon.fillna(method = \"pad\", inplace = True)\n",
    "    test_final_df.state.fillna(method = \"pad\", inplace = True)\n",
    "    \n",
    "    # Convert to dummy\n",
    "    train_final_df = pd.get_dummies(train_final_df, columns = feature_split)\n",
    "    test_final_df = pd.get_dummies(test_final_df, columns = feature_split)\n",
    "    \n",
    "    # Column to remove in train data\n",
    "    train_column_remove = [\n",
    "        \"balance_due\",\n",
    "        \"collection_status\",\n",
    "        \"compliance_detail\",\n",
    "        \"payment_amount\",\n",
    "        \"payment_date\",\n",
    "        \"payment_status\"\n",
    "    ]\n",
    "    \n",
    "    # Column to remove in all data\n",
    "    all_column_remove = [\n",
    "        \"fine_amount\",\n",
    "        \"violator_name\",\n",
    "        \"zip_code\",\n",
    "        \"country\",\n",
    "        \"city\",\n",
    "        \"inspector_name\",\n",
    "        \"violation_street_number\",\n",
    "        \"violation_street_name\",\n",
    "        \"violation_zip_code\",\n",
    "        \"violation_description\",\n",
    "        \"mailing_address_str_number\",\n",
    "        \"mailing_address_str_name\",\n",
    "        \"non_us_str_code\",\n",
    "        \"ticket_issued_date\",\n",
    "        \"hearing_date\",\n",
    "        \"grafitti_status\",\n",
    "        \"violation_code\"\n",
    "    ]\n",
    "    \n",
    "    # Remove the column for train and test data\n",
    "    train_final_df.drop(train_column_remove, axis = 1, inplace = True)\n",
    "    train_final_df.drop(all_column_remove, axis = 1, inplace = True)\n",
    "    test_final_df.drop(all_column_remove, axis = 1, inplace = True)\n",
    "    # Get the train data feature\n",
    "    train_feature_index = train_final_df.columns.drop(\"compliance\")\n",
    "    train_feature_set = set(train_feature_index)\n",
    "    \n",
    "    # Loop through and remove train feature not in test data\n",
    "    for feature in set(train_feature_index):\n",
    "        if feature not in test_final_df:\n",
    "            train_feature_set.remove(feature)\n",
    "            \n",
    "    train_feature_list = list(train_feature_set)\n",
    "    \n",
    "    # Data split\n",
    "    # Train data\n",
    "    X_train = train_final_df[train_feature_list]\n",
    "    y_train = train_final_df.compliance\n",
    "    # Test data\n",
    "    X_test = test_final_df[train_feature_list]\n",
    "    \n",
    "    # Scale the data\n",
    "    scale = MinMaxScaler()\n",
    "    X_train_scale = scale.fit_transform(X_train)\n",
    "    X_test_scale = scale.transform(X_test)\n",
    "    \n",
    "    # Fit the classifier\n",
    "    clf = MLPClassifier(hidden_layer_sizes = [100, 10],\n",
    "                        alpha = 5,\n",
    "                        random_state = 0,\n",
    "                        solver = \"lbfgs\",\n",
    "                        verbose = 0)\n",
    "    clf.fit(X_train_scale, y_train)\n",
    "    \n",
    "    # Predict the probability of the test data scaled\n",
    "    test_prediction = clf.predict_proba(X_test_scale)[:,1]\n",
    "    \n",
    "    # Get the original test data\n",
    "    test_original_df = pd.read_csv(\"test.csv\", encoding = \"ISO-8859-1\")\n",
    "    # Add the prediction to the test data\n",
    "    test_original_df[\"compliance\"] = test_prediction\n",
    "    # Set the test data index\n",
    "    test_original_df.set_index(\"ticket_id\", inplace = True)\n",
    "    \n",
    "    return test_original_df.compliance"
   ]
  },
  {
   "cell_type": "code",
   "execution_count": 131,
   "metadata": {},
   "outputs": [
    {
     "data": {
      "text/plain": [
       "ticket_id\n",
       "284932    0.053502\n",
       "285362    0.007321\n",
       "285361    0.046114\n",
       "285338    0.078583\n",
       "285346    0.104561\n",
       "            ...   \n",
       "376496    0.011700\n",
       "376497    0.011700\n",
       "376499    0.063579\n",
       "376500    0.063557\n",
       "369851    0.116734\n",
       "Name: compliance, Length: 61001, dtype: float64"
      ]
     },
     "execution_count": 131,
     "metadata": {},
     "output_type": "execute_result"
    }
   ],
   "source": [
    "blight_model()"
   ]
  },
  {
   "cell_type": "code",
   "execution_count": null,
   "metadata": {},
   "outputs": [],
   "source": []
  }
 ],
 "metadata": {
  "kernelspec": {
   "display_name": "Python 3",
   "language": "python",
   "name": "python3"
  },
  "language_info": {
   "codemirror_mode": {
    "name": "ipython",
    "version": 3
   },
   "file_extension": ".py",
   "mimetype": "text/x-python",
   "name": "python",
   "nbconvert_exporter": "python",
   "pygments_lexer": "ipython3",
   "version": "3.7.4"
  }
 },
 "nbformat": 4,
 "nbformat_minor": 2
}
