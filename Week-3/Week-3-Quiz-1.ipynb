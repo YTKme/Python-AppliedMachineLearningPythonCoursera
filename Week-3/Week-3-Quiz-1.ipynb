{
 "cells": [
  {
   "cell_type": "markdown",
   "metadata": {},
   "source": [
    "# Quiz"
   ]
  },
  {
   "cell_type": "markdown",
   "metadata": {},
   "source": [
    "1. A supervised learning model has been built to predict whether someone is infected with a new strain of a virus. The probability of any one person having the virus is 1%. Using accuracy as a metric, what would be a good choice for a baseline accuracy score that the new model would want to outperform?\n",
    "    * 0.99"
   ]
  },
  {
   "cell_type": "markdown",
   "metadata": {},
   "source": [
    "2. Given the following confusion matrix:\n",
    "\n",
    "|       &nbsp;       | Predicted Positive | Predicted Negative |\n",
    "|--------------------|--------------------|--------------------|\n",
    "| Condition Positive | 96                 | 4                  |\n",
    "| Condition Negative | 8                  | 19                 |\n",
    "\n",
    "Compute the accuracy to three decimal places.\n",
    "\n",
    "$accuracy = \\frac{TN + TP}{TN + TP + FN + FP}$\n",
    "\n",
    "$accuracy = \\frac{19 + 96}{19 + 96 + 4 + 8}$"
   ]
  },
  {
   "cell_type": "code",
   "execution_count": 16,
   "metadata": {},
   "outputs": [
    {
     "data": {
      "text/plain": [
       "0.905511811023622"
      ]
     },
     "execution_count": 16,
     "metadata": {},
     "output_type": "execute_result"
    }
   ],
   "source": [
    "tn = 19\n",
    "tp = 96\n",
    "fn = 4\n",
    "fp = 8\n",
    "\n",
    "accuracy = (tn + tp) / (tn + tp + fn + fp)\n",
    "accuracy"
   ]
  },
  {
   "cell_type": "markdown",
   "metadata": {},
   "source": [
    "3. Given the following confusion matrix:\n",
    "\n",
    "|       &nbsp;       | Predicted Positive | Predicted Negative |\n",
    "|--------------------|--------------------|--------------------|\n",
    "| Condition Positive | 96                 | 4                  |\n",
    "| Condition Negative | 8                  | 19                 |\n",
    "\n",
    "Compute the precision to three decimal places.\n",
    "\n",
    "$precision = \\frac{TP}{TP + FP}$\n",
    "\n",
    "$precision = \\frac{96}{96 + 8}$"
   ]
  },
  {
   "cell_type": "code",
   "execution_count": 17,
   "metadata": {},
   "outputs": [
    {
     "data": {
      "text/plain": [
       "0.9230769230769231"
      ]
     },
     "execution_count": 17,
     "metadata": {},
     "output_type": "execute_result"
    }
   ],
   "source": [
    "tn = 19\n",
    "tp = 96\n",
    "fn = 4\n",
    "fp = 8\n",
    "\n",
    "precision = (tp) / (tp + fp)\n",
    "precision"
   ]
  },
  {
   "cell_type": "markdown",
   "metadata": {},
   "source": [
    "4. Given the following confusion matrix:\n",
    "\n",
    "|       &nbsp;       | Predicted Positive | Predicted Negative |\n",
    "|--------------------|--------------------|--------------------|\n",
    "| Condition Positive | 96                 | 4                  |\n",
    "| Condition Negative | 8                  | 19                 |\n",
    "\n",
    "Compute the recall to three decimal places.\n",
    "\n",
    "$recall = \\frac{TP}{TP + FN}$\n",
    "\n",
    "$recall = \\frac{96}{96 + 4}$"
   ]
  },
  {
   "cell_type": "code",
   "execution_count": 20,
   "metadata": {},
   "outputs": [
    {
     "data": {
      "text/plain": [
       "0.96"
      ]
     },
     "execution_count": 20,
     "metadata": {},
     "output_type": "execute_result"
    }
   ],
   "source": [
    "tn = 19\n",
    "tp = 96\n",
    "fn = 4\n",
    "fp = 8\n",
    "\n",
    "recall = (tp) / (tp + fn)\n",
    "recall"
   ]
  },
  {
   "cell_type": "markdown",
   "metadata": {},
   "source": [
    "5. Using the fitted model `m` create a precision-recall curve to answer the following question:\n",
    "\n",
    "    For the fitted model `m`, approximately what precision can we expect for a recall of 0.8?\n",
    "\n",
    "    (Use y_test and X_test to compute the precision-recall curve. If you wish to view a plot, you can use `plt.show()` )\n",
    "    \n",
    "    * [X] 0.6"
   ]
  },
  {
   "cell_type": "code",
   "execution_count": 2,
   "metadata": {},
   "outputs": [
    {
     "name": "stdout",
     "output_type": "stream",
     "text": [
      "0\n"
     ]
    }
   ],
   "source": [
    "#print(m)\n",
    "\n",
    "# LogisticRegression(C = 1.0,\n",
    "#                    class_weight = None,\n",
    "#                    dual = False,\n",
    "#                    fit_intercept = True,\n",
    "#                    intercept_scaling = 1,\n",
    "#                    max_iter = 100,\n",
    "#                    multi_class = \"ovr\",\n",
    "#                    n_jobs = 1,\n",
    "#                    penalty = \"l2\",\n",
    "#                    random_state = None,\n",
    "#                    solver = \"liblinear\",\n",
    "#                    tol = 0.0001,\n",
    "#                    verbose = 0,\n",
    "#                    warm_start = False)\n",
    "\n",
    "print(m)\n",
    "y_scores_m = m.fit(X_train, y_train).decision_function(X_test)\n",
    "precision, recall, thresholds = precision_recall_curve(y_test, y_scores_m)\n",
    "closest_zero = np.argmin(np.abs(thresholds))\n",
    "closest_zero_p = precision[closest_zero]\n",
    "closest_zero_r = recall[closest_zero]\n",
    "\n",
    "plt.figure()\n",
    "plt.xlim([0.0, 1.01])\n",
    "plt.ylim([0.0, 1.01])\n",
    "plt.plot(precision, recall, label = \"Precision-Recall Curve\")\n",
    "plt.plot(closest_zero_p, closest_zero_r, \"o\", markersize = 12, fillstyle = \"none\", c = \"r\", mew = 3)\n",
    "plt.xlabel(\"Precision\", fontsize = 16)\n",
    "plt.ylabel(\"Recall\", fontsize = 16)\n",
    "plt.axes().set_aspect(\"equal\")\n",
    "plt.show()"
   ]
  },
  {
   "cell_type": "markdown",
   "metadata": {},
   "source": [
    "6. Given the following models and AUC scores, match each model to its corresponding ROC curve.\n",
    "    * Model 1 test set AUC score: 0.91\n",
    "    * Model 2 test set AUC score: 0.50\n",
    "    * Model 3 test set AUC score: 0.56\n",
    "    \n",
    "Graph\n",
    "\n",
    "* [ ] &nbsp;\n",
    "    * Model 1: Roc 1\n",
    "    * Model 2: Roc 2\n",
    "    * Model 3: Roc 3\n",
    "    \n",
    "* [X] &nbsp;\n",
    "    * Model 1: Roc 1 \n",
    "    * Model 2: Roc 3\n",
    "    * Model 3: Roc 2\n",
    "\n",
    "* [ ] &nbsp;\n",
    "    * Model 1: Roc 2\n",
    "    * Model 2: Roc 3\n",
    "    * Model 3: Roc 1\n",
    "\n",
    "* [ ] &nbsp;\n",
    "    * Model 1: Roc 3\n",
    "    * Model 2: Roc 2\n",
    "    * Model 3: Roc 1\n",
    "\n",
    "\n",
    "* [ ] Not enough information is given."
   ]
  },
  {
   "cell_type": "markdown",
   "metadata": {},
   "source": [
    "7. Given the following models and accuracy scores, match each model to its corresponding ROC curve.\n",
    "    * Model 1 test set accuracy: 0.91\n",
    "    * Model 2 test set accuracy: 0.79\n",
    "    * Model 3 test set accuracy: 0.72\n",
    "    \n",
    "Graph\n",
    "\n",
    "* [ ] &nbsp;\n",
    "    * Model 1: Roc 1\n",
    "    * Model 2: Roc 2\n",
    "    * Model 3: Roc 3\n",
    "    \n",
    "* [ ] &nbsp;\n",
    "    * Model 1: Roc 1 \n",
    "    * Model 2: Roc 3\n",
    "    * Model 3: Roc 2\n",
    "\n",
    "* [ ] &nbsp;\n",
    "    * Model 1: Roc 2\n",
    "    * Model 2: Roc 3\n",
    "    * Model 3: Roc 1\n",
    "\n",
    "* [ ] &nbsp;\n",
    "    * Model 1: Roc 3\n",
    "    * Model 2: Roc 2\n",
    "    * Model 3: Roc 1\n",
    "\n",
    "\n",
    "* [X] Not enough information is given."
   ]
  },
  {
   "cell_type": "markdown",
   "metadata": {},
   "source": [
    "8. Using the fitted model `m` what is the micro precision score?\n",
    "\n",
    "    (Use y_test and X_test to compute the precision score.)\n",
    "    \n",
    "    * [X] 0.744"
   ]
  },
  {
   "cell_type": "code",
   "execution_count": 3,
   "metadata": {},
   "outputs": [
    {
     "name": "stdout",
     "output_type": "stream",
     "text": [
      "0\n"
     ]
    }
   ],
   "source": [
    "#print(m)\n",
    "\n",
    "# SVC(C = 1.0,\n",
    "#     cache_size = 200,\n",
    "#     class_weight = None,\n",
    "#     coef0 = 0.0,\n",
    "#     decision_function_shape = None,\n",
    "#     degree = 3,\n",
    "#     gamma = \"auto\",\n",
    "#     kernel = \"rbf\",\n",
    "#     max_iter = -1,\n",
    "#     probability = False,\n",
    "#     random_state = None,\n",
    "#     shrinking = True,\n",
    "#     tol = 0.001,\n",
    "#     verbose = False)\n",
    "\n",
    "svm_predicted = m.predict(X_test)\n",
    "precision_score(y_test, svm_predicted, average = \"micro\")"
   ]
  },
  {
   "cell_type": "markdown",
   "metadata": {},
   "source": [
    "9. Which of the following is true of the R-Squared metric? (Select all that apply)\n",
    "\n",
    "    * [X] The best possible score is 1.0\n",
    "    * [X] A model that always predicts the mean of y would get a score of 0.0\n",
    "    * [ ] The worst possible score is 0.0\n",
    "    * [ ] A model that always predicts the mean of y would get a negative score"
   ]
  },
  {
   "cell_type": "markdown",
   "metadata": {},
   "source": [
    "10. In a future society, a machine is used to predict a crime before it occurs. If you were responsible for tuning this machine, what evaluation metric would you want to maximize to ensure no innocent people (people not about to commit a crime) are imprisoned (where crime is the positive label)?\n",
    "\n",
    "    * [ ] Accuracy\n",
    "    * [X] Precision\n",
    "    * [ ] Recall X\n",
    "    * [ ] F1 X\n",
    "    * [ ] AUC"
   ]
  },
  {
   "cell_type": "markdown",
   "metadata": {},
   "source": [
    "11. Consider the machine from the previous question. If you were responsible for tuning this machine, what evaluation metric would you want to maximize to ensure all criminals (people about to commit a crime) are imprisoned (where crime is the positive label)?\n",
    "\n",
    "    * [ ] Accuracy\n",
    "    * [ ] Precision X\n",
    "    * [X] Recall\n",
    "    * [ ] F1\n",
    "    * [ ] AUC X"
   ]
  },
  {
   "cell_type": "markdown",
   "metadata": {},
   "source": [
    "12. A classifier is trained on an imbalanced multiclass dataset. After looking at the model’s precision scores, you find that the micro averaging is much smaller than the macro averaging score. Which of the following is most likely happening?\n",
    "\n",
    "    * [ ] The model is probably misclassifying the frequent labels more than the infrequent labels.\n",
    "    * [X] The model is probably misclassifying the infrequent labels more than the frequent labels."
   ]
  },
  {
   "cell_type": "markdown",
   "metadata": {},
   "source": [
    "13. Using the already defined RBF SVC model `m`, run a grid search on the parameters C and gamma, for values [0.01, 0.1, 1, 10]. The grid search should find the model that best optimizes for recall. How much better is the recall of this model than the precision? (Compute recall - precision to 3 decimal places)\n",
    "\n",
    "    (Use y_test and X_test to compute precision and recall.)\n",
    "    \n",
    "    * [ ] 0.027"
   ]
  },
  {
   "cell_type": "code",
   "execution_count": 4,
   "metadata": {},
   "outputs": [
    {
     "name": "stdout",
     "output_type": "stream",
     "text": [
      "0\n"
     ]
    }
   ],
   "source": [
    "#print(m)\n",
    "\n",
    "# SVC(C = 1.0,\n",
    "#     cache_size = 200,\n",
    "#     class_weight = None,\n",
    "#     coef0 = 0.0,\n",
    "#     decision_function_shape = None,\n",
    "#     degree = 3,\n",
    "#     gamma = \"auto\",\n",
    "#     kernel = \"rbf\",\n",
    "#     max_iter = -1,\n",
    "#     probability = False,\n",
    "#     random_state = 0,\n",
    "#     shrinking = True,\n",
    "#     tol = 0.001,\n",
    "#     verbose = False)\n",
    "\n",
    "grid_values = {\"gamma\": [0.01, 0.1, 1, 10]}\n",
    "grid_r = GridSearchCV(m, param_grid = grid_values, scoring = \"recall\")\n",
    "grid_r.fit(X_train, y_train)\n",
    "\n",
    "print(\"Grid best parameter: \", grid_r.best_params_)\n",
    "print(\"Grid best score: \", grid_r.best_score_)\n",
    "\n",
    "grid_p = GridSearchCV(m, param_grid = grid_values, scoring = \"precision\")\n",
    "grid_p.fit(X_train, y_train)\n",
    "\n",
    "print(\"Grid best parameter: \", grid_p.best_params_)\n",
    "print(\"Grid best score: \", grid_p.best_score_)\n",
    "\n",
    "print(grid_r.best_score_ - grid_p.best_score_)"
   ]
  },
  {
   "cell_type": "markdown",
   "metadata": {},
   "source": [
    "14. Using the already defined RBF SVC model `m`, run a grid search on the parameters C and gamma, for values [0.01, 0.1, 1, 10]. The grid search should find the model that best optimizes for precision. How much better is the precision of this model than the recall? (Compute precision - recall to 3 decimal places)\n",
    "\n",
    "    (Use y_test and X_test to compute precision and recall.)"
   ]
  },
  {
   "cell_type": "code",
   "execution_count": null,
   "metadata": {},
   "outputs": [],
   "source": [
    "#print(m)\n",
    "\n",
    "grid_values = {\"gamma\": [0.01, 0.1, 1, 10]}\n",
    "grid_r = GridSearchCV(m, param_grid = grid_values, scoring = \"recall\")\n",
    "grid_r.fit(X_train, y_train)\n",
    "\n",
    "print(\"Grid best parameter: \", grid_r.best_params_)\n",
    "print(\"Grid best score: \", grid_r.best_score_)\n",
    "\n",
    "grid_p = GridSearchCV(m, param_grid = grid_values, scoring = \"precision\")\n",
    "grid_p.fit(X_train, y_train)\n",
    "\n",
    "print(\"Grid best parameter: \", grid_p.best_params_)\n",
    "print(\"Grid best score: \", grid_p.best_score_)\n",
    "\n",
    "print(grid_p.best_score_ - grid_r.best_score_)"
   ]
  }
 ],
 "metadata": {
  "kernelspec": {
   "display_name": "Python 3",
   "language": "python",
   "name": "python3"
  },
  "language_info": {
   "codemirror_mode": {
    "name": "ipython",
    "version": 3
   },
   "file_extension": ".py",
   "mimetype": "text/x-python",
   "name": "python",
   "nbconvert_exporter": "python",
   "pygments_lexer": "ipython3",
   "version": "3.7.4"
  }
 },
 "nbformat": 4,
 "nbformat_minor": 2
}
