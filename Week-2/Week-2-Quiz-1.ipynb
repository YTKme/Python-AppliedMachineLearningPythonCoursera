{
 "cells": [
  {
   "cell_type": "markdown",
   "metadata": {},
   "source": [
    "# Week 2 Quiz 1"
   ]
  },
  {
   "cell_type": "markdown",
   "metadata": {},
   "source": [
    "1. After training a ridge regression model, you find that the training and test set accuracies are 0.98 and 0.54 respectively. Which of the following would be the best choice for the next ridge regression model you train?\n",
    "\n",
    "    * [ ] You are overfitting, the next model trained should have a lower value for alpha\n",
    "    * [X] You are overfitting, the next model trained should have a higher value for alpha\n",
    "    * [ ] You are underfitting, the next model trained should have a lower value for alpha\n",
    "    * [ ] You are underfitting, the next model trained should have a higher value for alpha"
   ]
  },
  {
   "cell_type": "markdown",
   "metadata": {},
   "source": [
    "2. After training a Radial Basis Function (RBF) kernel SVM, you decide to increase the influence of each training point and to simplify the decision surface. Which of the following would be the best choice for the next RBF SVM you train?\n",
    "\n",
    "    * [X] Decrease C and gamma\n",
    "    * [ ] Increase C and gamma\n",
    "    * [ ] Increase C, decrease gamma\n",
    "    * [ ] Decrease C, increase gamma"
   ]
  },
  {
   "cell_type": "markdown",
   "metadata": {},
   "source": [
    "3. Which of the following is an example of multiclass classification? (Select all that apply)\n",
    "\n",
    "    * [X] Classify a set of fruits as apples, oranges, bananas, or lemons\n",
    "    * [ ] Predict whether an article is relevant to one or more topics (e.g. sports, politics, finance, science)\n",
    "    * [ ] Predicting both the rating and profit of soon to be released movie\n",
    "    * [ ] Classify a voice recording as an authorized user or not an authorized user."
   ]
  },
  {
   "cell_type": "markdown",
   "metadata": {},
   "source": [
    "4. Looking at the plot below which shows accuracy scores for different values of a regularization parameter lambda, what value of lambda is the best choice for generalization?\n",
    "\n",
    "    * 10"
   ]
  },
  {
   "cell_type": "markdown",
   "metadata": {},
   "source": [
    "5. Suppose you are interested in finding a parsimonious model (the model that accomplishes the desired level of prediction with as few predictor variables as possible) to predict housing prices. Which of the following would be the best choice?\n",
    "\n",
    "    * [ ] Logistic Regression\n",
    "    * [ ] Ridge Regression\n",
    "    * [X] Lasso Regression\n",
    "    * [ ] Ordinary Least Squares Regression"
   ]
  },
  {
   "cell_type": "markdown",
   "metadata": {},
   "source": [
    "6. Match the plots of SVM margins below to the values of the C parameter that correspond to them.\n",
    "\n",
    "    * [ ] 10, 1, 0.1\n",
    "    * [X] 0.1, 1, 10\n",
    "    * [ ] 10, 0.1, 1\n",
    "    * [ ] 1, 0.1, 10"
   ]
  },
  {
   "cell_type": "markdown",
   "metadata": {},
   "source": [
    "7. Use Figures A and B below to answer questions 7, 8, 9, and 10.\n",
    "\n",
    "    * [X] Figure A: Ridge Regression, Figure B: Lasso Regression\n",
    "    * [ ] Figure A: Lasso Regression, Figure B: Ridge Regression\n",
    "    * [ ] Figure A: Ordinary Least Squares Regression, Figure B: Ridge Regression\n",
    "    * [ ] Figure A: Ridge Regression, Figure B: Ordinary Least Squares Regression\n",
    "    * [ ] Figure A: Ordinary Least Squares Regression, Figure B: Lasso Regression\n",
    "    * [ ] Figure A: Lasso Regression, Figure B: Ordinary Least Squares Regression"
   ]
  },
  {
   "cell_type": "markdown",
   "metadata": {},
   "source": [
    "8. Looking at Figure A and B, what is a value of alpha that optimizes the R2 score for the Ridge Model?\n",
    "\n",
    "    * 4"
   ]
  },
  {
   "cell_type": "markdown",
   "metadata": {},
   "source": [
    "9. Looking at Figure A and B, what is a value of alpha that optimizes the R2 score for the Lasso Model?\n",
    "\n",
    "    * 10"
   ]
  },
  {
   "cell_type": "markdown",
   "metadata": {},
   "source": [
    "10. When running a LinearRegression() model with default parameters on the same data that generated Figures A and B the output coefficients are:\n",
    "\n",
    "|  &nbsp; | &nbsp; |\n",
    "|---------|--------|\n",
    "| Coef 0  | -19.5  |\n",
    "| Coef 1  | 48.8   |\n",
    "| Coef 2  | 9.7    |\n",
    "| Coef 3  | 24.6   |\n",
    "| Coef 4  | 13.2   |\n",
    "| Coef 5  | 5.1    |\n",
    "\n",
    "For what value of Coef 3 is R2 score maximized for the Lasso Model?\n",
    "\n",
    "    * -0.2"
   ]
  },
  {
   "cell_type": "markdown",
   "metadata": {},
   "source": [
    "11. Which of the following is true of cross-validation? (Select all that apply)\n",
    "\n",
    "    * [ ] Removes need for training and test sets\n",
    "    * [ ] Increases generalization ability and reduces computational complexity\n",
    "    * [X] Fits multiple models on different splits of the data\n",
    "    * [X] Increases generalization ability and computational complexity\n",
    "    * [X] Helps prevent knowledge about the test set from leaking into the model"
   ]
  },
  {
   "cell_type": "code",
   "execution_count": null,
   "metadata": {},
   "outputs": [],
   "source": []
  }
 ],
 "metadata": {
  "kernelspec": {
   "display_name": "Python 3",
   "language": "python",
   "name": "python3"
  },
  "language_info": {
   "codemirror_mode": {
    "name": "ipython",
    "version": 3
   },
   "file_extension": ".py",
   "mimetype": "text/x-python",
   "name": "python",
   "nbconvert_exporter": "python",
   "pygments_lexer": "ipython3",
   "version": "3.7.4"
  }
 },
 "nbformat": 4,
 "nbformat_minor": 2
}
