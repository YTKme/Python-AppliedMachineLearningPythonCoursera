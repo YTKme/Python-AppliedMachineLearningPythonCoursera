{
 "cells": [
  {
   "cell_type": "markdown",
   "metadata": {},
   "source": [
    "# Note"
   ]
  },
  {
   "cell_type": "markdown",
   "metadata": {},
   "source": [
    "## Key Concepts in Machine Learning"
   ]
  },
  {
   "cell_type": "markdown",
   "metadata": {},
   "source": [
    "Which of the following are examples of **supervised machine learning**? Select all that apply.\n",
    "* [ ] Analyzing sales data to find groups of customers with similar buying habits.\n",
    "* [X] Making online movie recommendations based on the “star” ratings that other users provided with their online movie reviews.\n",
    "* [X] A face recognition system that was trained using images with crowdsourced labels.\n",
    "* [X] A search engine that uses user clicks on the results page to learn which pages are most relevant to popular queries."
   ]
  },
  {
   "cell_type": "markdown",
   "metadata": {},
   "source": [
    "## Examining the Data"
   ]
  },
  {
   "cell_type": "markdown",
   "metadata": {},
   "source": [
    "Why is it important to examine your dataset before starting to work with it for a machine learning task?\n",
    "* [X] To understand how much missing data there is in the dataset\n",
    "* [X] To get an idea of whether the features need further cleaning\n",
    "* [X] It may turn out the problem doesn't require machine learning.\n",
    "* [ ] It's not important; most machine learning methods can learn to work with the raw data without further processing."
   ]
  },
  {
   "cell_type": "markdown",
   "metadata": {},
   "source": [
    "## K-Nearest Neighbors Classification"
   ]
  },
  {
   "cell_type": "markdown",
   "metadata": {},
   "source": [
    "Which of these could be an acceptable sequence of operations using scikit-learn to apply the k-nearest neighbors classification method?\n",
    "* [ ] read_table, train_test_split, fit, KNeighborsClassifier, score\n",
    "* [X] read_table, train_test_split, KNeighborsClassifier, fit, score\n",
    "* [ ] read_table, fit, train_test_split, KNeighborsClassifier, score\n",
    "* [ ] KNeighborsClassifier, train_test_split, fit, score, read_table"
   ]
  },
  {
   "cell_type": "markdown",
   "metadata": {},
   "source": [
    "Which of the following is true about the k-nearest neighbors classification algorithm, assuming uniform weighting on the k neighbors? Select all that apply.\n",
    "* [X] A low value of “k” (close to 1) is more likely to overfit the training data and lead to worse accuracy on the test data, compared to higher values of “k”.\n",
    "* [ ] A low value of “k” (close to 1) is less likely to overfit the training data and lead to better accuracy on the test data, compared to higher values of “k”.\n",
    "* [X] Setting “k” to the number of points in the training set will result in a classifier that always predicts the majority class.\n",
    "* [ ] Setting “k” to the number of points in the training set will result in a classifier that never predicts the majority class.\n",
    "* [X] The k-nearest neighbors classification algorithm has to memorize all of the training examples to make a prediction.\n",
    "* [ ] The performance of a k-nearest neighbors classifier is relatively insensitive to the choice of “k” on most datasets."
   ]
  },
  {
   "cell_type": "code",
   "execution_count": null,
   "metadata": {},
   "outputs": [],
   "source": []
  }
 ],
 "metadata": {
  "kernelspec": {
   "display_name": "Python 3",
   "language": "python",
   "name": "python3"
  },
  "language_info": {
   "codemirror_mode": {
    "name": "ipython",
    "version": 3
   },
   "file_extension": ".py",
   "mimetype": "text/x-python",
   "name": "python",
   "nbconvert_exporter": "python",
   "pygments_lexer": "ipython3",
   "version": "3.7.4"
  }
 },
 "nbformat": 4,
 "nbformat_minor": 2
}
