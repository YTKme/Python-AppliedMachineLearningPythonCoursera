{
 "cells": [
  {
   "cell_type": "markdown",
   "metadata": {},
   "source": [
    "# Week 1 Quiz 1"
   ]
  },
  {
   "cell_type": "markdown",
   "metadata": {},
   "source": [
    "1. Select the option that correctly completes the sentence:\n",
    "\n",
    "    Training a model using labeled data and using this model to predict the labels for new data is known as ____________.\n",
    "    \n",
    "    * [ ] Unsupervised Learning\n",
    "    * [ ] Clustering\n",
    "    * [X] Supervised Learning\n",
    "    * [ ] Density Estimation"
   ]
  },
  {
   "cell_type": "markdown",
   "metadata": {},
   "source": [
    "2. Select the option that correctly completes the sentence:\n",
    "\n",
    "    Modeling the features of an unlabeled dataset to find hidden structure is known as ____________.\n",
    "    \n",
    "    * [ ] Classification\n",
    "    * [ ] Supervised Learning\n",
    "    * [X] Unsupervised Learning\n",
    "    * [ ] Regression"
   ]
  },
  {
   "cell_type": "markdown",
   "metadata": {},
   "source": [
    "3. Select the option that correctly completes the sentence:\n",
    "\n",
    "    Training a model using categorically labelled data to predict labels for new data is known as __________.\n",
    "    \n",
    "    * [X] Classification\n",
    "    * [ ] Regression\n",
    "    * [ ] Clustering\n",
    "    * [ ] Feature Extraction"
   ]
  },
  {
   "cell_type": "markdown",
   "metadata": {},
   "source": [
    "4. Select the option that correctly completes the sentence:\n",
    "\n",
    "    Training a model using labelled data where the labels are continuous quantities to predict labels for new data is known as __________.\n",
    "    \n",
    "    * [ ] Clustering\n",
    "    * [ ] Feature Extraction\n",
    "    * [X] Regression\n",
    "    * [ ] Classification"
   ]
  },
  {
   "cell_type": "markdown",
   "metadata": {},
   "source": [
    "5. Using the data for classes 0, 1, and 2 plotted below, what class would a KNeighborsClassifier classify the new point as for k = 1 and k = 3?\n",
    "\n",
    "    * [ ] k=1: Class 2, k=3: Class 1\n",
    "    * [ ] k=1: Class 0, k=3: Class 1\n",
    "    * [ ] k=1: Class 1, k=3: Class 0\n",
    "    * [X] k=1: Class 1, k=3: Class 2\n",
    "    * [ ] k=1: Class 0, k=3: Class 2"
   ]
  },
  {
   "cell_type": "markdown",
   "metadata": {},
   "source": [
    "6. Which of the following is true for the nearest neighbor classifier (Select all that apply):\n",
    "\n",
    "    * [ ] A higher value of k leads to a more complex decision boundary\n",
    "    * [X] Memorizes the entire training set\n",
    "    * [ ] Given a data instance to classify, computes the probability of each possible class using a statistical model of the input features\n",
    "    * [ ] Partitions observations into k clusters where each observation belongs to the cluster with the nearest mean"
   ]
  },
  {
   "cell_type": "markdown",
   "metadata": {},
   "source": [
    "7. Why is it important to examine your dataset as a first step in applying machine learning? (Select all that apply):\n",
    "\n",
    "    * [X] See what type of cleaning or preprocessing still needs to be done\n",
    "    * [X] You might notice missing data\n",
    "    * [X] Gain insight on what machine learning model might be appropriate, if any\n",
    "    * [x] Get a sense for how difficult the problem might be\n",
    "    * [ ] It is not important"
   ]
  },
  {
   "cell_type": "markdown",
   "metadata": {},
   "source": [
    "8. The key purpose of splitting the dataset into training and test sets is:\n",
    "\n",
    "    * [X] To estimate how well the learned model will generalize to new data\n",
    "    * [ ] To speed up the training process\n",
    "    * [ ] To reduce the amount of labelled data needed for evaluating classifier accuracy\n",
    "    * [ ] To reduce the number of features we need to consider as input to the learning algorithm"
   ]
  },
  {
   "cell_type": "markdown",
   "metadata": {},
   "source": [
    "9. The purpose of setting the random_state parameter in train_test_split is: (Select all that apply)\n",
    "\n",
    "    * [X] To make experiments easily reproducible by always using the same partitioning of the data\n",
    "    * [ ] To avoid bias in data splitting\n",
    "    * [ ] To avoid predictable splitting of the data\n",
    "    * [ ] To split the data into similar subsets so that bias is not introduced into the final results"
   ]
  },
  {
   "cell_type": "markdown",
   "metadata": {},
   "source": [
    "10. Given a dataset with 10,000 observations and 50 features plus one label, what would be the dimensions of X_train, y_train, X_test, and y_test? Assume a train/test split of 75%/25%.\n",
    "\n",
    "    * [ ] X_train: (10000, 50), y_train: (10000, ), X_test: (10000, 50), y_test: (10000, )\n",
    "    * [ ] X_train: (10000, 28), y_train: (10000, ), X_test: (10000, 12), y_test: (10000, )\n",
    "    * [X] X_train: (7500, 50), y_train: (7500, ), X_test: (2500, 50), y_test: (2500, )\n",
    "    * [ ] X_train: (2500, 50), y_train: (2500, ), X_test: (7500, 50), y_test: (7500, )\n",
    "    * [ ] X_train: (2500, ), y_train: (2500, 50), X_test: (7500, ), y_test: (7500, 50)"
   ]
  },
  {
   "cell_type": "code",
   "execution_count": null,
   "metadata": {},
   "outputs": [],
   "source": []
  }
 ],
 "metadata": {
  "kernelspec": {
   "display_name": "Python 3",
   "language": "python",
   "name": "python3"
  },
  "language_info": {
   "codemirror_mode": {
    "name": "ipython",
    "version": 3
   },
   "file_extension": ".py",
   "mimetype": "text/x-python",
   "name": "python",
   "nbconvert_exporter": "python",
   "pygments_lexer": "ipython3",
   "version": "3.7.4"
  }
 },
 "nbformat": 4,
 "nbformat_minor": 2
}
